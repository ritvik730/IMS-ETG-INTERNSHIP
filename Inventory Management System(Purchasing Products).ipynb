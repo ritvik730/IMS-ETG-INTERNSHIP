{
 "cells": [
  {
   "cell_type": "code",
   "execution_count": 1,
   "id": "6a846065",
   "metadata": {},
   "outputs": [],
   "source": [
    "import json\n",
    "import time\n",
    "sale_list=[]"
   ]
  },
  {
   "cell_type": "markdown",
   "id": "3991285f",
   "metadata": {},
   "source": [
    "# Display the items in store"
   ]
  },
  {
   "cell_type": "code",
   "execution_count": 2,
   "id": "9e8bff14",
   "metadata": {},
   "outputs": [],
   "source": [
    "def show():\n",
    "    fd = open(\"records.json\",'r')\n",
    "    r = fd.read()\n",
    "    fd.close()\n",
    "    rec = json.loads(r)\n",
    "\n",
    "    for i in rec:\n",
    "        print(f\"{i}        {rec[i]['Product name']}         {rec[i]['Price']}\")\n",
    "    \n",
    "    return rec"
   ]
  },
  {
   "cell_type": "markdown",
   "id": "fe809b3a",
   "metadata": {},
   "source": [
    "# Purchase by customer"
   ]
  },
  {
   "cell_type": "code",
   "execution_count": 3,
   "id": "f2739548",
   "metadata": {},
   "outputs": [],
   "source": [
    "def order(rec):       \n",
    "        selectedProduct  = str(input(\"Enter the productNo: \"))\n",
    "        productQuantity = int(input(\"Enter the quantity: \"))\n",
    "\n",
    "\n",
    "        print(\"Product: \", rec[selectedProduct]['Product name'])\n",
    "        print(\"Price: \", rec[selectedProduct]['Price'])\n",
    "        print(\"Billing Amount: \", rec[selectedProduct]['Price'] * productQuantity)\n",
    "        print(\"Billing Date and Time: \",time.ctime())\n",
    "\n",
    "        rec[selectedProduct]['In stock items'] -= productQuantity\n",
    "        \n",
    "        d={'product' : rec[selectedProduct]['Product name'], 'quantity' : productQuantity, 'amount': rec[selectedProduct]['Price'] * productQuantity}\n",
    "        \n",
    "        #Update Inventory after purchase\n",
    "        js = json.dumps(rec)\n",
    "        fd = open(\"records.json\",'w')\n",
    "        fd.write(js)\n",
    "        fd.close()\n",
    "        \n",
    "        return d\n",
    "        "
   ]
  },
  {
   "cell_type": "markdown",
   "id": "feb531b1",
   "metadata": {},
   "source": [
    "# Sales record"
   ]
  },
  {
   "cell_type": "code",
   "execution_count": 4,
   "id": "05abe039",
   "metadata": {},
   "outputs": [],
   "source": [
    "def sales(new_data):\n",
    "    sale_list.append(new_data)\n",
    "    totalSale={}\n",
    "    j=1\n",
    "    for i in sale_list:\n",
    "        totalSale[j]=i\n",
    "        j+=1\n",
    "\n",
    "    txt=json.dumps(sale_list)\n",
    "    f=open(\"sales.json\",\"w\")\n",
    "    f.write(txt)\n",
    "    f=open(\"sales.json\",\"r\")\n",
    "    print(\"\\n total sales\")\n",
    "    for i in f:\n",
    "        print(i)\n",
    "    f.close()\n",
    "   "
   ]
  },
  {
   "cell_type": "markdown",
   "id": "52f0ccbf",
   "metadata": {},
   "source": [
    "# MAIN"
   ]
  },
  {
   "cell_type": "code",
   "execution_count": 5,
   "id": "033e8e63",
   "metadata": {
    "scrolled": true
   },
   "outputs": [
    {
     "name": "stdout",
     "output_type": "stream",
     "text": [
      "1        Haldiram Bhujia         30\n",
      "2        Haldiram Channa         35\n",
      "3        Bicano Bhujia         25\n",
      "4        Bicano Channa         30\n",
      "5        Bourbon Biscuits         20\n",
      "6        Oreo Biscuits         30\n",
      "7        Good Day Biscuits         20\n",
      "8        Oatmeal Biscuits         50\n",
      "9        Raisins Packet         200\n",
      "10        Mixed Fruit jam         135\n",
      "11        Mango Jam         130\n",
      "12        Blueberry Jam         160\n",
      "13        Maggi Noodles         40\n",
      "14        Schezwan Chutney         15\n",
      "15        Chings Noodles         20\n",
      "16        Saffola Oats         120\n",
      "17        Saffola Oodles         50\n",
      "18        Kelloggs Oats         75\n",
      "19        Kelloggs Muesli         200\n",
      "20        Peanut Butter         160\n",
      "21        Dry Fruits         500\n",
      "22        Henz Ketchup         30\n",
      "23        Kissan Ketchup         15\n",
      "24        Maggi Ketchup         30\n",
      "25        Toothbrush         20\n",
      "26        Toothpaste         90\n",
      "27        Mortein refil         100\n",
      "28        Hit Spray          100\n",
      "29        Odomos paste         40\n",
      "30        Mortein Coil         30\n",
      "do you want to buy something? type 'yes' or 'no' yes\n",
      "Enter the productNo: 1\n",
      "Enter the quantity: 20\n",
      "Product:  Haldiram Bhujia\n",
      "Price:  30\n",
      "Billing Amount:  600\n",
      "Billing Date and Time:  Sun Sep  5 01:55:42 2021\n",
      "\n",
      " total sales\n",
      "[{\"product\": \"Haldiram Bhujia\", \"quantity\": 20, \"amount\": 600}]\n"
     ]
    }
   ],
   "source": [
    "rec=show()\n",
    "inp=input(\"do you want to buy something? type 'yes' or 'no' \")\n",
    "if(inp.lower()=='yes'):\n",
    "    d=order(rec)\n",
    "    sales(d)\n",
    "else:\n",
    "    print(\"Okay...Have a nice day\")"
   ]
  }
 ],
 "metadata": {
  "kernelspec": {
   "display_name": "Python 3",
   "language": "python",
   "name": "python3"
  },
  "language_info": {
   "codemirror_mode": {
    "name": "ipython",
    "version": 3
   },
   "file_extension": ".py",
   "mimetype": "text/x-python",
   "name": "python",
   "nbconvert_exporter": "python",
   "pygments_lexer": "ipython3",
   "version": "3.8.8"
  }
 },
 "nbformat": 4,
 "nbformat_minor": 5
}
